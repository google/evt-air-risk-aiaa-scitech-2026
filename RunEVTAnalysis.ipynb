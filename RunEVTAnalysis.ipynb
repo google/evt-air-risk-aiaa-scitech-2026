{
 "cells": [
  {
   "cell_type": "code",
   "execution_count": null,
   "id": "0c6d6612",
   "metadata": {},
   "outputs": [],
   "source": [
    "# Copyright 2025 Wing Aviation LLC\n",
    "#\n",
    "# Licensed under the Apache License, Version 2.0 (the \"License\");\n",
    "# you may not use this file except in compliance with the License.\n",
    "# You may obtain a copy of the License at\n",
    "#\n",
    "#   https://www.apache.org/licenses/LICENSE-2.0\n",
    "#\n",
    "# Unless required by applicable law or agreed to in writing, software\n",
    "# distributed under the License is distributed on an \"AS IS\" BASIS,\n",
    "# WITHOUT WARRANTIES OR CONDITIONS OF ANY KIND, either express or implied.\n",
    "# See the License for the specific language governing permissions and\n",
    "# limitations under the License."
   ]
  },
  {
   "cell_type": "code",
   "execution_count": null,
   "id": "b58e7422",
   "metadata": {},
   "outputs": [],
   "source": [
    "# Imports\n",
    "import pandas as pd\n",
    "import plotly.io as pio\n",
    "import evt_analysis"
   ]
  },
  {
   "cell_type": "code",
   "execution_count": null,
   "id": "a5cd65a9",
   "metadata": {},
   "outputs": [],
   "source": [
    "# Load the simulation data\n",
    "df = pd.read_csv('cpa_sim.csv')\n",
    "#df = pd.read_csv('cpa_sim_select.csv')\n",
    "#df = pd.read_csv('cpa_operations_select.csv')"
   ]
  },
  {
   "cell_type": "code",
   "execution_count": null,
   "id": "bc199c8a",
   "metadata": {},
   "outputs": [],
   "source": [
    "# Run the analysis\n",
    "an = evt_analysis.ExtremeValuesAnalysis(df['cpa'].to_list())"
   ]
  },
  {
   "cell_type": "code",
   "execution_count": null,
   "id": "3fe3761f",
   "metadata": {},
   "outputs": [],
   "source": [
    "# Display the plots"
   ]
  },
  {
   "cell_type": "code",
   "execution_count": null,
   "id": "d31634b7",
   "metadata": {},
   "outputs": [],
   "source": [
    "an.fig_cpa_dist.show()"
   ]
  },
  {
   "cell_type": "code",
   "execution_count": null,
   "id": "59086c31",
   "metadata": {},
   "outputs": [],
   "source": [
    "an.fig_cpa_neg_dist.show()"
   ]
  },
  {
   "cell_type": "code",
   "execution_count": null,
   "id": "2af91e89",
   "metadata": {},
   "outputs": [],
   "source": [
    "an.fig_mean_excess.show()"
   ]
  },
  {
   "cell_type": "code",
   "execution_count": null,
   "id": "79b48cf0",
   "metadata": {},
   "outputs": [],
   "source": [
    "an.fig_xi_vs_threshold.show()"
   ]
  },
  {
   "cell_type": "code",
   "execution_count": null,
   "id": "148bdc08",
   "metadata": {},
   "outputs": [],
   "source": [
    "an.fig_pmac_vs_threshold.show()"
   ]
  },
  {
   "cell_type": "code",
   "execution_count": null,
   "id": "353d81f3",
   "metadata": {},
   "outputs": [],
   "source": [
    "# Pick a threshold (in the positive CPA space)\n",
    "threshold = 250.0\n",
    "results = an.results_at_threshold(threshold)\n",
    "print(f\"\"\"\n",
    "Final selected threshold: {threshold}\n",
    "Estimate for P(MAC): {results['p_collision']:.2g}\n",
    "95% Confidence Interval Upper Bound for P(MAC): {results['p_collision_upper']:.2g}\n",
    "Fraction of samples over threshold: {results['p_threshold']:.2g}\n",
    "Number of samples over threshold: {results['n_tail']}\n",
    "\"\"\")"
   ]
  },
  {
   "cell_type": "code",
   "execution_count": null,
   "id": "26776448",
   "metadata": {},
   "outputs": [],
   "source": [
    "# Show the final PDF fit\n",
    "an.pdf_fit_plot(threshold).show()"
   ]
  },
  {
   "cell_type": "code",
   "execution_count": null,
   "id": "56b27eb6",
   "metadata": {},
   "outputs": [],
   "source": [
    "# Show the QQ plot for goodness-of-fit\n",
    "an.qq_plot(threshold).show()"
   ]
  }
 ],
 "metadata": {
  "kernelspec": {
   "display_name": "Python 3 (ipykernel)",
   "language": "python",
   "name": "python3"
  },
  "language_info": {
   "codemirror_mode": {
    "name": "ipython",
    "version": 3
   },
   "file_extension": ".py",
   "mimetype": "text/x-python",
   "name": "python",
   "nbconvert_exporter": "python",
   "pygments_lexer": "ipython3",
   "version": "3.13.6"
  }
 },
 "nbformat": 4,
 "nbformat_minor": 5
}
